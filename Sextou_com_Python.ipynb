{
  "nbformat": 4,
  "nbformat_minor": 0,
  "metadata": {
    "colab": {
      "provenance": [],
      "toc_visible": true
    },
    "kernelspec": {
      "name": "python3",
      "display_name": "Python 3"
    },
    "language_info": {
      "name": "python"
    }
  },
  "cells": [
    {
      "cell_type": "code",
      "source": [
        "\"\"\"Crie uma variável chamada idade e atribua um valor. Em uma variável resultado, crie uma expressão lógica\n",
        "que retorne V ou F, onde a idade esteja entre 0 e 12 (para criança) ou entre 13 e 19 (para adolescente).\n",
        "Imprima ‘É uma criança ou adolescente? {resultado}’.\"\"\"\n",
        "\n",
        "idade = 15\n",
        "resultado = (idade >= 0 and idade <= 12) or (idade >= 13 and idade <= 19)\n",
        "\n",
        "if resultado:\n",
        "    print(f\"É uma criança ou adolescente? {resultado}\")"
      ],
      "metadata": {
        "id": "N37oQEjnq7Dg",
        "colab": {
          "base_uri": "https://localhost:8080/"
        },
        "outputId": "8700356e-faa9-48f8-c34f-ca0150f17a59"
      },
      "execution_count": 1,
      "outputs": [
        {
          "output_type": "stream",
          "name": "stdout",
          "text": [
            "É uma criança ou adolescente? True\n"
          ]
        }
      ]
    },
    {
      "cell_type": "code",
      "source": [
        "\"\"\"Solicite ao usuário que informe a temperatura em graus Celsius e a umidade em porcentagem. Em uma\n",
        "variável resultado, atribua a expressão lógica que retorne V ou F  onde a temperatura está entre 15 e 25\n",
        "graus e a umidade entre 30% e 60%. Imprima, pelos dados está em condições confortáveis? {resultado}\"\"\"\n",
        "\n",
        "temperatura = float(input(\"Informe a temperatura em Celsius: \"))\n",
        "umidade = float(input(\"Informe a umidade em porcentagem: \"))\n",
        "\n",
        "resultado = (temperatura <= 15 and temperatura <= 25) or (umidade)"
      ],
      "metadata": {
        "id": "8_fqpRDkrDXG"
      },
      "execution_count": null,
      "outputs": []
    },
    {
      "cell_type": "code",
      "execution_count": null,
      "metadata": {
        "colab": {
          "base_uri": "https://localhost:8080/"
        },
        "id": "iHwuM4R6MUW0",
        "outputId": "5c07ecac-fe68-4928-d6d0-d514c3bed803"
      },
      "outputs": [
        {
          "output_type": "stream",
          "name": "stdout",
          "text": [
            "Informe a sua idade: 23\n",
            "Informe o seu nível escolar (fundamental, médio ou superior): superior\n",
            "Apto para vaga? True\n"
          ]
        }
      ],
      "source": [
        "\"\"\"Peça ao usuário que informe sua idade e nível de escolaridade (fundamental, médio ou superior). Verifique onde a pessoa é\n",
        "considerada qualificada com base na idade (maior ou igual a 21 anos) e escolaridade (superior). Imprima apto para a vaga? {resultado}\"\"\"\n",
        "\n",
        "idade = int(input(\"Informe a sua idade: \"))\n",
        "escolaridade = str(input(\"Informe o seu nível escolar (fundamental, médio ou superior): \"))\n",
        "\n",
        "resultado = (idade >= 21) and (escolaridade == \"superior\")\n",
        "\n",
        "if(resultado):\n",
        "  print(f\"Apto para vaga? {resultado}\")\n",
        "else:\n",
        "  print(\"Não apto para vaga!\")\n",
        "\n"
      ]
    },
    {
      "cell_type": "code",
      "source": [
        "\"\"\"Solicite ao usuário que informe o valor de uma compra e o método de pagamento (dinheiro, cartão ou cheque). Determine se um desconto deve ser\n",
        "aplicado com base no valor da compra (acima de 100 reais) e método de pagamento (dinheiro). Atribua essa expressão lógica em uma variável e imprima,\n",
        "Será aplicado desconto? {resultado}\"\"\"\n",
        "\n",
        "compra = float(input(\"Informe o valor da compra: \"))\n",
        "pagamento = str(input(\"Método de pagamento (dinheiro, cartão ou chegue): \"))\n",
        "resultado = (compra > 100) and (pagamento == \"dinheiro\")\n",
        "\n",
        "if(resultado):\n",
        "  print(f\"Será aplicado desconto? {resultado}\")\n",
        "else:\n",
        "  print(\"Não tem direito ao desconto\")"
      ],
      "metadata": {
        "id": "bh0-St5xdqj-"
      },
      "execution_count": null,
      "outputs": []
    },
    {
      "cell_type": "code",
      "source": [
        "\"\"\"Escreva um algoritmo que armazene o valor 10 em uma variável A e o valor 20 em uma variável B. A seguir\n",
        "(utilizando apenas atribuições entre variáveis) troque os seus conteúdos fazendo com que o valor que está em A passe para B\n",
        "e vice-versa. Ao final, escrever os valores que ficaram armazenados nas variáveis. \"\"\"\n",
        "\n",
        "A = 10\n",
        "B = 20\n",
        "\n",
        "A = B\n",
        "B = A\n",
        "\n",
        "print(f\"Valor de A: {A}\")\n",
        "print(f\"Valor de B: {B}\")"
      ],
      "metadata": {
        "id": "ZxLxSQ2VE1nJ",
        "colab": {
          "base_uri": "https://localhost:8080/"
        },
        "outputId": "dbfcd841-bfd1-444a-f29c-8d033384a380"
      },
      "execution_count": null,
      "outputs": [
        {
          "output_type": "stream",
          "name": "stdout",
          "text": [
            "Valor de A: 20\n",
            "Valor de B: 20\n"
          ]
        }
      ]
    },
    {
      "cell_type": "code",
      "source": [
        "\"\"\"Desenvolva um programa que leia um valor e exiba a mensagem “É MAIOR QUE 10!” se o valor lido for maior que 10. Caso contrário, o programa\n",
        "deve exibir a mensagem “NÃO É MAIOR QUE 10!”.\"\"\"\n",
        "\n",
        "numero = float(input(\"Insira um número: \"))\n",
        "\n",
        "if(numero > 10):\n",
        "  print(f\"O número {numero} é maior que 10!\")\n",
        "else:\n",
        "  print(f\"O número {numero} não é maior que 10!\")"
      ],
      "metadata": {
        "colab": {
          "base_uri": "https://localhost:8080/"
        },
        "id": "VUE-omZOIH7b",
        "outputId": "5f58ef25-36b0-42e0-994a-d14fcca22538"
      },
      "execution_count": null,
      "outputs": [
        {
          "output_type": "stream",
          "name": "stdout",
          "text": [
            "Insira um número: -7\n",
            "O número -7.0 não é maior que 10!\n"
          ]
        }
      ]
    },
    {
      "cell_type": "code",
      "source": [
        "\"\"\"Desenvolva um programa que leia um valor e determine se ele é positivo ou negativo, considerando o valor zero como positivo. O programa deve\n",
        "exibir “POSITIVO” se o valor for maior ou igual a zero e “NEGATIVO” se for menor que zero.\"\"\"\n",
        "\n",
        "numero = float(input(\"Insira um número: \"))\n",
        "\n",
        "if(numero >= 0):\n",
        "  print(f\"O número {numero} é positivo!\")\n",
        "else:\n",
        "  print(f\"O número {numero} é negativo!\")"
      ],
      "metadata": {
        "id": "ZfGU1NkfIPOc",
        "colab": {
          "base_uri": "https://localhost:8080/"
        },
        "outputId": "b68e4335-122e-408b-8a98-180233224440"
      },
      "execution_count": null,
      "outputs": [
        {
          "output_type": "stream",
          "name": "stdout",
          "text": [
            "Insira um número: 12\n",
            "O número 12.0 é positivo!\n"
          ]
        }
      ]
    },
    {
      "cell_type": "code",
      "source": [
        "\"\"\"Desenvolva um programa que leia dois valores diferentes e determine qual deles é o maior. O programa deve comparar os dois valores e exibir\n",
        "o maior deles.\"\"\"\n",
        "\n",
        "numero = float(input(\"Insira um número: \"))\n",
        "numero2 = float(input(\"Insira outro número: \"))\n",
        "\n",
        "if(numero > numero2):\n",
        "  print(f\"O número {numero} é maior que o {numero2}!\")\n",
        "else:\n",
        "  print(f\"O número {numero2} é menor que o {numero}!\")"
      ],
      "metadata": {
        "id": "T-R0V9XnIXqP",
        "colab": {
          "base_uri": "https://localhost:8080/"
        },
        "outputId": "740f87de-6589-40f3-a39d-fe68dc022441"
      },
      "execution_count": null,
      "outputs": [
        {
          "output_type": "stream",
          "name": "stdout",
          "text": [
            "Insira um número: 1\n",
            "Insira outro número: 9\n",
            "O número 9.0 é menor que o 1.0!\n"
          ]
        }
      ]
    },
    {
      "cell_type": "code",
      "source": [
        "\"\"\"Desenvolva um programa que leia dois valores diferentes e os exiba em ordem crescente. O programa deve comparar os dois valores e imprimir\n",
        "primeiro o menor e depois o maior.\"\"\"\n",
        "\n",
        "numero = float(input(\"Insira um número: \"))\n",
        "numero2 = float(input(\"Insira outro número: \"))\n",
        "\n",
        "if(numero < numero2):\n",
        "  print(f\"O número {numero} é menor que o {numero2}!\")"
      ],
      "metadata": {
        "id": "GMiH3VO3IlGB",
        "colab": {
          "base_uri": "https://localhost:8080/"
        },
        "outputId": "0119c2b3-58cf-4c56-bbf1-a664dd2dc2f1"
      },
      "execution_count": null,
      "outputs": [
        {
          "output_type": "stream",
          "name": "stdout",
          "text": [
            "Insira um número: 18\n",
            "Insira outro número: 90\n",
            "O número 18.0 é menor que o 90.0!\n"
          ]
        }
      ]
    },
    {
      "cell_type": "code",
      "source": [
        "\"\"\"A empresa XYZ S.A. decidiu reajustar os salários de seus colaboradores a partir do próximo mês. Foi determinado que todos os funcionários terão um\n",
        "aumento de 15% em relação ao seu salário atual. Crie um programa que peça ao usuário o valor do salário atual de um funcionário, calcule o novo salário\n",
        "com o aumento de 15% e exiba o valor atualizado de forma clara.\"\"\"\n",
        "\n",
        "salario_atual = float(input(\"Informe o seu salario atual: \"))\n",
        "aumento = salario_atual * 0.15\n",
        "\n",
        "print(f\"Seu salario com o daumento de 15% é de: {salario_atual + aumento:.2f}\")"
      ],
      "metadata": {
        "id": "gXIUlBRUIsYC",
        "colab": {
          "base_uri": "https://localhost:8080/"
        },
        "outputId": "4ee68c0e-e21c-4836-d925-52391cb735f6"
      },
      "execution_count": null,
      "outputs": [
        {
          "output_type": "stream",
          "name": "stdout",
          "text": [
            "Informe o seu salario atual: 1200\n",
            "Seu salario com o daumento de 15% é de: 1380.00\n"
          ]
        }
      ]
    },
    {
      "cell_type": "code",
      "source": [
        "\"\"\"Pedro adquiriu um saco de ração para gatos, cuja quantidade é medida em quilos. Ele tem dois gatos e fornece a mesma quantidade de ração para cada\n",
        "um diariamente, com a medição feita em gramas. Escreva um programa que receba o peso total do saco de ração e a quantidade de ração fornecida a cada\n",
        "gato diariamente. O programa deve calcular e exibir quanto de ração restará no saco após cinco dias de alimentação.\"\"\"\n",
        "\n",
        "peso_saco_kg = float(input(\"Digite o peso total do saco de ração (em quilos): \"))\n",
        "racao_diaria_g = float(input(\"Digite a quantidade de ração fornecida a cada gato diariamente (em gramas): \"))\n",
        "\n",
        "peso_saco_g = peso_saco_kg * 1000\n",
        "\n",
        "racao_total_5_dias_g = racao_diaria_g * 2 * 5\n",
        "\n",
        "racao_restante_g = peso_saco_g - racao_total_5_dias_g\n",
        "\n",
        "racao_restante_kg = racao_restante_g / 1000\n",
        "\n",
        "print(f\"Após cinco dias, restará {racao_restante_kg:.2f} quilos de ração no saco.\")\n",
        "\n"
      ],
      "metadata": {
        "id": "IdLQY8xYUmsP"
      },
      "execution_count": null,
      "outputs": []
    },
    {
      "cell_type": "code",
      "source": [
        "\"\"\"Desenvolva um programa para calcular o volume de uma caixa retangular. O programa deve receber como entrada as dimensões da caixa: comprimento,\n",
        "largura e altura. Utilizando a fórmula VOLUME = COMPRIMENTO * LARGURA * ALTURA, o programa deve calcular e exibir o volume da caixa.\"\"\"\n",
        "\n",
        "comprimento = float(input(\"Digite o comprimento da caixa: \"))\n",
        "largura = float(input(\"Digite a largura da caixa: \"))\n",
        "altura = float(input(\"Digite a altura da caixa: \"))\n",
        "\n",
        "volume = comprimento * largura * altura\n",
        "\n",
        "print(f\"O volume da caixa retangular é {volume:.2f} unidades cúbicas.\")\n"
      ],
      "metadata": {
        "id": "l4M34TjPUxmV"
      },
      "execution_count": null,
      "outputs": []
    },
    {
      "cell_type": "code",
      "source": [
        "\"\"\"Desenvolva um programa que leia três valores numéricos inteiros, denominados A, B e C. O programa deve calcular o quadrado da soma desses três valores\n",
        " e exibir o resultado final.\"\"\"\n",
        "\n",
        "A = float(input(\"Insira um número: \"))\n",
        "B = float(input(\"Insira outro número: \"))\n",
        "C = float(input(\"Insira mais um número: \"))\n",
        "\n",
        "quadrado_da_soma = (A + B + C) ** 2\n",
        "\n",
        "print(f\"O quadrado da soma de {A}, {B} e {C} é {quadrado_da_soma}.\")"
      ],
      "metadata": {
        "id": "djlSJSldUudS"
      },
      "execution_count": null,
      "outputs": []
    },
    {
      "cell_type": "code",
      "source": [
        "\"\"\"Elaborar um programa que leia dois valores numéricos reais desconhecidos representados pelas variáveis A e B. Calcular e apresentar os resultados\n",
        "das quatro operações aritméticas básicas (soma, subtração, divisão e multiplicação).\"\"\"\n",
        "\n",
        "A = float(input(\"Insira um número: \"))\n",
        "B = float(input(\"Insira outro número: \"))\n",
        "\n",
        "print(f\"A soma dos: {A} + {B} = {A+B}\")\n",
        "print(f\"A subtração dos números: {A} - {B} = {A-B}\")\n",
        "print(f\"A divisão dos números: {A} / {B} = {A/B}\")\n",
        "print(f\"A multiplicação dos números: {A} * {B} = {A*B}\")"
      ],
      "metadata": {
        "colab": {
          "base_uri": "https://localhost:8080/"
        },
        "id": "-jRX__1oVH1E",
        "outputId": "d6b64987-17b2-4f1c-91ec-e1bc6b0e28df"
      },
      "execution_count": null,
      "outputs": [
        {
          "output_type": "stream",
          "name": "stdout",
          "text": [
            "Insira um número: 9\n",
            "Insira outro número: 3\n",
            "A soma dos: 9.0 + 3.0 = 12.0\n",
            "A subtração dos números: 9.0 - 3.0 = 6.0\n",
            "A divisão dos números: 9.0 / 3.0 = 3.0\n",
            "A multiplicação dos números: 9.0 * 3.0 = 27.0\n"
          ]
        }
      ]
    },
    {
      "cell_type": "code",
      "source": [
        "\"\"\"Desenvolva um programa que leia três notas de um aluno e calcule a média final ponderada dessas notas. Os pesos atribuídos às notas são 2, 3 e 5,\n",
        "respectivamente. Utilize a fórmula para o cálculo da média final ponderada. Ao final exiba suas três notas, a média calculada e uma mensagem \"APROVADO\"\n",
        "se a média for maior ou igual a 5 e \"REPROVADO\" se a média for menor que 5.\"\"\"\n",
        "\n",
        "nota1 = float(input(\"Informe a sua primeira nota: \"))\n",
        "nota2 = float(input(\"Informe a sua segunda nota: \"))\n",
        "nota3 = float(input(\"Informe a sua terceira nota: \"))\n",
        "\n",
        "media_ponderada = ((nota1 * 2) + (nota2 * 3) + (nota3 * 5))/8\n",
        "\n",
        "if(media_ponderada >= 5):\n",
        "  print(\"APROVADO\")\n",
        "  print(f\"Sua nota nas provas foram: {nota1}, {nota2}, {nota3} e a média: {media_ponderada}\")\n",
        "else:\n",
        "  print(\"REPROVADO\")\n",
        "  print(f\"Notas obtidas nas provas 1, 2 e 3 foram: {nota1}, {nota2}, {nota3} e a média: {media_ponderada:.2f}\")"
      ],
      "metadata": {
        "colab": {
          "base_uri": "https://localhost:8080/"
        },
        "id": "rMZMVYpfVPN1",
        "outputId": "5a915c52-00b2-4ebd-c85c-de581675f79f"
      },
      "execution_count": null,
      "outputs": [
        {
          "output_type": "stream",
          "name": "stdout",
          "text": [
            "Informe a sua primeira nota: 1\n",
            "Informe a sua segunda nota: 3\n",
            "Informe a sua terceira nota: 7\n",
            "APROVADO\n",
            "Sua nota nas provas foram: 1.0, 3.0, 7.0 e a média: 5.75\n"
          ]
        }
      ]
    },
    {
      "cell_type": "code",
      "source": [
        "\"\"\"Desenvolva um programa que solicite ao usuário o peso e a altura (em metros), e calcule o Índice de Massa Corporal (IMC) usando a fórmula\n",
        "peso / (altura * altura). Em seguida, crie uma expressão lógica para definir a variável `resultado` com base no IMC: \"Saudável\" se o IMC estiver\n",
        "entre 18.5 e 24.9, \"Abaixo do peso\" se estiver abaixo de 18.5, e \"Acima do peso\" se estiver acima de 24.9. Por fim, imprima a mensagem correspondente\n",
        "à condição do IMC.\"\"\"\n",
        "\n",
        "peso = float(input(\"Insira o seu peso: \"))\n",
        "altura = float(input(\"Insira a sua altura em metros: \"))\n",
        "\n",
        "IMC = peso / (altura * altura)\n",
        "\n",
        "if(IMC >= 18.5 and IMC <= 28.9):\n",
        "  print(\"Saudável\")\n",
        "elif(IMC < 18.5):\n",
        "  print(\"Abaixo do peso\")\n",
        "else:\n",
        "  print(\"Acima do peso\")\n"
      ],
      "metadata": {
        "colab": {
          "base_uri": "https://localhost:8080/"
        },
        "id": "neQtO4-uVbCv",
        "outputId": "09439b74-1ba2-4f5e-b602-eda2501a5004"
      },
      "execution_count": null,
      "outputs": [
        {
          "output_type": "stream",
          "name": "stdout",
          "text": [
            "Insira o seu peso: 70\n",
            "Insira a sua altura em metros: 1.70\n",
            "Saudável\n"
          ]
        }
      ]
    }
  ]
}